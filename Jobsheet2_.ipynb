{
  "nbformat": 4,
  "nbformat_minor": 0,
  "metadata": {
    "colab": {
      "provenance": [],
      "authorship_tag": "ABX9TyP40QY/LkabuBA3d6L67YLe",
      "include_colab_link": true
    },
    "kernelspec": {
      "name": "python3",
      "display_name": "Python 3"
    },
    "language_info": {
      "name": "python"
    }
  },
  "cells": [
    {
      "cell_type": "markdown",
      "metadata": {
        "id": "view-in-github",
        "colab_type": "text"
      },
      "source": [
        "<a href=\"https://colab.research.google.com/github/IndraWijaya2/2025_PBO_TI1A/blob/main/Jobsheet2_.ipynb\" target=\"_parent\"><img src=\"https://colab.research.google.com/assets/colab-badge.svg\" alt=\"Open In Colab\"/></a>"
      ]
    },
    {
      "cell_type": "markdown",
      "source": [
        "**Praktikum 1**"
      ],
      "metadata": {
        "id": "IAVYQko6AOXQ"
      }
    },
    {
      "cell_type": "code",
      "execution_count": null,
      "metadata": {
        "id": "n8rVSC_CAGTG"
      },
      "outputs": [],
      "source": [
        "# Fungsi Built-in\n",
        "# Fungsi print() adalah contoh fungsi built-in untuk mencetak output\n",
        "print(\"Ini adalah contoh fungsi built-in\")\n",
        "print(\"-\" * 30)\n",
        "\n",
        "# Fungsi len() adalah contoh fungsi built-in untuk menghitung panjang suatu objek\n",
        "kata = \"Pemrograman\"\n",
        "panjang_kata = len(kata)\n",
        "print(f\"Panjang kata '{kata}' adalah: {panjang_kata}\")\n",
        "print(\"-\" * 30)\n",
        "\n",
        "# Fungsi max() adalah contoh fungsi built-in untuk mencari nilai maksimum dari sebuah daftar\n",
        "angka = [10, 5, 30, 40, 25]\n",
        "nilai_max = max(angka)\n",
        "print(f\"Nilai maksimum dalam daftar {angka} adalah: {nilai_max}\")\n",
        "print(\"-\" * 30)\n",
        "\n",
        "# Fungsi User-Defined\n",
        "# Fungsi dengan satu parameter (Menerima satu nilai input)\n",
        "def cetak_kuadrat(angka):\n",
        "    # Menghitung kuadrat dari angka yang diterima sebagai parameter\n",
        "    print(f\"Kuadrat dari {angka} adalah: {angka ** 2}\")\n",
        "    print(\"-\" * 30)\n",
        "\n",
        "# Fungsi dengan beberapa parameter (Menerima lebih dari satu nilai input)\n",
        "def hitung_luas_persegi_panjang(panjang, lebar):\n",
        "    # Menghitung luas persegi panjang\n",
        "    return panjang * lebar\n",
        "\n",
        "# Fungsi dengan beberapa tipe parameter (Menerima berbagai jenis data)\n",
        "def info_mahasiswa(nama, umur, ipk):\n",
        "    # Mencetak informasi mahasiswa\n",
        "    print(f\"Nama: {nama}, Umur: {umur}, IPK: {ipk}\")\n",
        "    print(\"-\" * 30)\n",
        "\n",
        "# Fungsi tanpa return value (Non-return value)\n",
        "def sapa_pengguna(nama):\n",
        "    # Fungsi ini hanya mencetak sapaan tanpa mengembalikan nilai\n",
        "    print(f\"Halo, {nama}! Selamat datang di dunia Python.\")\n",
        "    print(\"-\" * 30)\n",
        "\n",
        "# Fungsi dengan return value\n",
        "def hitung_kelling_persegi(sisi):\n",
        "    # Mengembalikan keliling persegi\n",
        "    return 4 * sisi\n",
        "\n",
        "# Pemanggilan fungsi dengan satu parameter\n",
        "cetak_kuadrat(5)\n",
        "\n",
        "# Pemanggilan fungsi dengan beberapa parameter\n",
        "luas = hitung_luas_persegi_panjang(10, 5)\n",
        "print(f\"Luas persegi panjang: {luas}\")\n",
        "print(\"-\" * 30)\n",
        "\n",
        "# Pemanggilan fungsi dengan beberapa tipe parameter\n",
        "info_mahasiswa(\"Budi\", 22, 3.8)\n",
        "\n",
        "# Pemanggilan fungsi tanpa return value\n",
        "sapa_pengguna(\"Andi\")\n",
        "\n",
        "# Pemanggilan fungsi dengan return value\n",
        "kelling = hitung_kelling_persegi(5)\n",
        "print(f\"Keliling persegi dengan sisi 5 adalah: {kelling}\")\n",
        "print(\"-\" * 30)"
      ]
    },
    {
      "cell_type": "markdown",
      "source": [
        "**Praktikum 2**"
      ],
      "metadata": {
        "id": "477tg5FkAW81"
      }
    },
    {
      "cell_type": "code",
      "source": [
        "# PRAKTIKUM 2\n",
        "# File utama main.py yang mengimport modul geometri.py\n",
        "# Mengimport modul geometri\n",
        "import geometry\n",
        "\n",
        "def main():\n",
        "    # Menggunakan fungsi dari modul geometri\n",
        "    luas_persegi = geometry.hitung_luas_persegi(5)\n",
        "    print(f\"Luas persegi dengan sisi 5 adalah: {luas_persegi}\")\n",
        "\n",
        "    luas_persegi_panjang = geometry.hitung_luas_persegi_panjang(10, 5)\n",
        "    print(f\"Luas persegi panjang dengan panjang 10 dan lebar 5 adalah: {luas_persegi_panjang}\")\n",
        "\n",
        "    luas_lingkaran = geometry.hitung_luas_lingkaran(7)\n",
        "    print(f\"Luas lingkaran dengan jari-jari 7 adalah: {luas_lingkaran}\")\n",
        "\n",
        "if __name__ == \"__main__\":\n",
        "    main()"
      ],
      "metadata": {
        "colab": {
          "base_uri": "https://localhost:8080/"
        },
        "id": "PTtUY_srAWSK",
        "outputId": "f6910a79-b77a-4492-f465-f90dac91d5e8"
      },
      "execution_count": 1,
      "outputs": [
        {
          "output_type": "stream",
          "name": "stdout",
          "text": [
            "Luas persegi dengan sisi 5 adalah: 25\n",
            "Luas persegi panjang dengan panjang 10 dan lebar 5 adalah: 50\n",
            "Luas lingkaran dengan jari-jari 7 adalah: 153.86\n"
          ]
        }
      ]
    },
    {
      "cell_type": "markdown",
      "source": [
        "**Praktikum 3**"
      ],
      "metadata": {
        "id": "zA7JyYRtBR3I"
      }
    },
    {
      "cell_type": "code",
      "source": [
        "# Kelas Buku untuk merepresentasikan buku di perpustakaan\n",
        "class Buku:\n",
        "    def __init__(self, judul, pengarang, tahun_terbit):\n",
        "        self.judul = judul\n",
        "        self.pengarang = pengarang\n",
        "        self.tahun_terbit = tahun_terbit\n",
        "        self.status = \"Tersedia\"  # Status buku, default adalah \"Tersedia\"\n",
        "\n",
        "    def tampilkan_info(self):\n",
        "        print(f\"Judul: {self.judul}\")\n",
        "        print(f\"Pengarang: {self.pengarang}\")\n",
        "        print(f\"Tahun Terbit: {self.tahun_terbit}\")\n",
        "        print(f\"Status: {self.status}\")\n",
        "        print(\"-\" * 40)  # Garis batas\n",
        "\n",
        "    def pinjam(self):\n",
        "        if self.status == \"Tersedia\":\n",
        "            self.status = \"Dipinjam\"\n",
        "            print(f\"Buku '{self.judul}' telah dipinjam.\")\n",
        "        else:\n",
        "            print(f\"Buku '{self.judul}' sedang dipinjam.\")\n",
        "        print(\"-\" * 40)  # Garis batas\n",
        "\n",
        "    def kembalikan(self):\n",
        "        if self.status == \"Dipinjam\":\n",
        "            self.status = \"Tersedia\"\n",
        "            print(f\"Buku '{self.judul}' telah dikembalikan.\")\n",
        "        else:\n",
        "            print(f\"Buku '{self.judul}' tidak sedang dipinjam.\")\n",
        "        print(\"-\" * 40)  # Garis batas\n",
        "\n",
        "\n",
        "# Membuat objek dari kelas Buku\n",
        "buku1 = Buku(\"Pengarangan Python\", \"John Doe\", 2021)\n",
        "buku2 = Buku(\"Data Science untuk Pemula\", \"Jane Smith\", 2020)\n",
        "\n",
        "# Menggunakan metode objek Buku\n",
        "buku1.tampilkan_info()\n",
        "buku2.pinjam()\n",
        "\n",
        "# Mengubah status buku dan menampilkan informasi\n",
        "buku1.kembalikan()\n",
        "buku1.pinjam()\n",
        "buku1.tampilkan_info()\n",
        "\n",
        "\n",
        "# Kelas Mahasiswa untuk merepresentasikan mahasiswa\n",
        "class Mahasiswa:\n",
        "    def __init__(self, nama, nim, umur):\n",
        "        self.nama = nama  # Atribut objek nama\n",
        "        self.nim = nim  # Atribut objek nim\n",
        "        self.umur = umur  # Atribut objek umur\n",
        "\n",
        "    def tampilkan_info(self):\n",
        "        print(f\"Nama: {self.nama}\")\n",
        "        print(f\"NIM: {self.nim}\")\n",
        "        print(f\"Umur: {self.umur} tahun\")\n",
        "        print(\"-\" * 40)  # Garis batas\n",
        "\n",
        "    def ubah_umur(self, umur_baru):\n",
        "        self.umur = umur_baru\n",
        "        print(f\"Umur {self.nama} telah diubah menjadi {self.umur} tahun.\")\n",
        "        print(\"-\" * 40)  # Garis batas\n",
        "\n",
        "\n",
        "# Membuat objek (instance) dari kelas Mahasiswa\n",
        "mahasiswa1 = Mahasiswa(\"Andi\", \"12345\", 20)\n",
        "mahasiswa2 = Mahasiswa(\"Budi\", \"67890\", 22)\n",
        "\n",
        "# Menggunakan metode dari kelas Mahasiswa\n",
        "mahasiswa1.tampilkan_info()\n",
        "mahasiswa2.tampilkan_info()\n",
        "\n",
        "# Mengubah umur mahasiswa1 menggunakan metode ubah_umur\n",
        "mahasiswa1.ubah_umur(21)\n",
        "\n",
        "# Menampilkan info mahasiswa setelah umur diubah\n",
        "print(\"Setelah mengubah umur mahasiswa1:\")\n",
        "mahasiswa1.tampilkan_info()"
      ],
      "metadata": {
        "colab": {
          "base_uri": "https://localhost:8080/"
        },
        "id": "TIqsqWN_BJ-B",
        "outputId": "7fb2b91f-1aff-4bd2-8fb6-7ebbb0bf633b"
      },
      "execution_count": 2,
      "outputs": [
        {
          "output_type": "stream",
          "name": "stdout",
          "text": [
            "Judul: Pengarangan Python\n",
            "Pengarang: John Doe\n",
            "Tahun Terbit: 2021\n",
            "Status: Tersedia\n",
            "----------------------------------------\n",
            "Buku 'Data Science untuk Pemula' telah dipinjam.\n",
            "----------------------------------------\n",
            "Buku 'Pengarangan Python' tidak sedang dipinjam.\n",
            "----------------------------------------\n",
            "Buku 'Pengarangan Python' telah dipinjam.\n",
            "----------------------------------------\n",
            "Judul: Pengarangan Python\n",
            "Pengarang: John Doe\n",
            "Tahun Terbit: 2021\n",
            "Status: Dipinjam\n",
            "----------------------------------------\n",
            "Nama: Andi\n",
            "NIM: 12345\n",
            "Umur: 20 tahun\n",
            "----------------------------------------\n",
            "Nama: Budi\n",
            "NIM: 67890\n",
            "Umur: 22 tahun\n",
            "----------------------------------------\n",
            "Umur Andi telah diubah menjadi 21 tahun.\n",
            "----------------------------------------\n",
            "Setelah mengubah umur mahasiswa1:\n",
            "Nama: Andi\n",
            "NIM: 12345\n",
            "Umur: 21 tahun\n",
            "----------------------------------------\n"
          ]
        }
      ]
    },
    {
      "cell_type": "markdown",
      "source": [
        "**Praktikum 4**"
      ],
      "metadata": {
        "id": "FpXx2RjDBcXG"
      }
    },
    {
      "cell_type": "code",
      "source": [
        "# PRACTIKUM 4\n",
        "# Kelas untuk menjelaskan atribut dan metode dalam kelas\n",
        "class Mobil:\n",
        "    def __init__(self, merk, warna, tahun, harga):\n",
        "        # Atribut yang dimiliki oleh objek Mobil\n",
        "        self.merk = merk\n",
        "        self.warna = warna\n",
        "        self.tahun = tahun\n",
        "        self.harga = harga\n",
        "\n",
        "    # Fungsi tanpa return value, hanya mencetak informasi\n",
        "    def tampilkan_info(self):\n",
        "        print(f\"Mobil {self.merk} berwarna {self.warna}, tahun {self.tahun}, harga: Rp {self.harga}\")\n",
        "        print(\"-\" * 40)  # Garis batas\n",
        "\n",
        "    # Fungsi dengan satu parameter\n",
        "    def diskon(self, persen_diskon):\n",
        "        # Menghitung harga setelah diskon\n",
        "        diskon_harga = self.harga * (persen_diskon / 100)\n",
        "        harga_setelah_diskon = self.harga - diskon_harga\n",
        "        print(f\"Harga setelah diskon {persen_diskon}%: Rp {harga_setelah_diskon}\")\n",
        "        print(\"-\" * 40)  # Garis batas\n",
        "\n",
        "    # Fungsi dengan return value, menghitung usia mobil berdasarkan tahun\n",
        "    def hitung_usia(self, tahun_sekarang):\n",
        "        usia = tahun_sekarang - self.tahun\n",
        "        return usia\n",
        "\n",
        "    # Fungsi dengan beberapa parameter\n",
        "    def perbarui_harga(self, harga_baru, tahun_baru):\n",
        "        self.harga = harga_baru\n",
        "        self.tahun = tahun_baru\n",
        "        print(f\"Harga dan tahun mobil {self.merk} diperbarui menjadi Rp {self.harga} dan tahun {self.tahun}\")\n",
        "        print(\"-\" * 40)  # Garis batas\n",
        "\n",
        "# Membuat objek mobil\n",
        "mobil1 = Mobil(\"Toyota\", \"Hitam\", 2015, 300000000)\n",
        "mobil2 = Mobil(\"Honda\", \"Merah\", 2018, 250000000)\n",
        "\n",
        "# Menggunakan metode tanpa return value\n",
        "mobil1.tampilkan_info()\n",
        "mobil2.tampilkan_info()\n",
        "\n",
        "# Menggunakan metode dengan satu parameter (diskon)\n",
        "mobil1.diskon(10)\n",
        "mobil2.diskon(15)\n",
        "\n",
        "# Menggunakan metode dengan return value (hitung usia mobil)\n",
        "usia_mobil1 = mobil1.hitung_usia(2025)\n",
        "usia_mobil2 = mobil2.hitung_usia(2025)\n",
        "\n",
        "print(f\"Usia mobil1 pada tahun 2025: {usia_mobil1} tahun\")\n",
        "print(\"-\" * 40)  # Garis batas\n",
        "print(f\"Usia mobil2 pada tahun 2025: {usia_mobil2} tahun\")\n",
        "print(\"-\" * 40)  # Garis batas\n",
        "\n",
        "# Menggunakan metode dengan beberapa parameter (perbarui harga dan tahun)\n",
        "mobil1.perbarui_harga(280000000, 2022)\n",
        "mobil2.perbarui_harga(240000000, 2021)"
      ],
      "metadata": {
        "colab": {
          "base_uri": "https://localhost:8080/"
        },
        "id": "GINjmh-uBVHs",
        "outputId": "5aa34c3e-1dd0-45fa-f5ac-1b7b00c07f09"
      },
      "execution_count": 3,
      "outputs": [
        {
          "output_type": "stream",
          "name": "stdout",
          "text": [
            "Mobil Toyota berwarna Hitam, tahun 2015, harga: Rp 300000000\n",
            "----------------------------------------\n",
            "Mobil Honda berwarna Merah, tahun 2018, harga: Rp 250000000\n",
            "----------------------------------------\n",
            "Harga setelah diskon 10%: Rp 270000000.0\n",
            "----------------------------------------\n",
            "Harga setelah diskon 15%: Rp 212500000.0\n",
            "----------------------------------------\n",
            "Usia mobil1 pada tahun 2025: 10 tahun\n",
            "----------------------------------------\n",
            "Usia mobil2 pada tahun 2025: 7 tahun\n",
            "----------------------------------------\n",
            "Harga dan tahun mobil Toyota diperbarui menjadi Rp 280000000 dan tahun 2022\n",
            "----------------------------------------\n",
            "Harga dan tahun mobil Honda diperbarui menjadi Rp 240000000 dan tahun 2021\n",
            "----------------------------------------\n"
          ]
        }
      ]
    },
    {
      "cell_type": "markdown",
      "source": [
        "**Penugasan**"
      ],
      "metadata": {
        "id": "LHzH0ed0CIJw"
      }
    },
    {
      "cell_type": "code",
      "source": [
        "from parkir import tampilkan_menu, masukkan_motor, lihat_daftar_motor, keluarkan_motor\n",
        "\n",
        "def main():\n",
        "    daftar_parkir = []\n",
        "    while True:\n",
        "        pilihan = tampilkan_menu()\n",
        "        if pilihan == \"1\":\n",
        "            masukkan_motor(daftar_parkir)\n",
        "        elif pilihan == \"2\":\n",
        "            lihat_daftar_motor(daftar_parkir)\n",
        "        elif pilihan == \"3\":\n",
        "            keluarkan_motor(daftar_parkir)\n",
        "        elif pilihan == \"4\":\n",
        "            print(\"Terima kasih! Program selesai.\")\n",
        "            break\n",
        "        else:\n",
        "            print(\"Pilihan tidak valid. Silakan coba lagi.\")\n",
        "\n",
        "if __name__ == \"__main__\":\n",
        "    main()"
      ],
      "metadata": {
        "colab": {
          "base_uri": "https://localhost:8080/"
        },
        "id": "-nODqh7_Bgb9",
        "outputId": "1b5ef188-7322-4d2a-83af-74bbee51f5ee"
      },
      "execution_count": 6,
      "outputs": [
        {
          "output_type": "stream",
          "name": "stdout",
          "text": [
            "\n",
            "=== Sistem Parkir Roda Dua ===\n",
            "1. Masukkan Motor\n",
            "2. Lihat Daftar Motor\n",
            "3. Keluarkan Motor\n",
            "4. Keluar\n",
            "Pilih menu (1/2/3/4): 1\n",
            "\n",
            "=== Masukkan Motor ===\n",
            "Masukkan plat nomor motor: G 1765 KAD\n",
            "Masukkan nama pemilik: Indra Wijaya\n",
            "Motor dengan plat nomor G 1765 KAD berhasil masuk parkiran.\n",
            "\n",
            "=== Sistem Parkir Roda Dua ===\n",
            "1. Masukkan Motor\n",
            "2. Lihat Daftar Motor\n",
            "3. Keluarkan Motor\n",
            "4. Keluar\n",
            "Pilih menu (1/2/3/4): 2\n",
            "\n",
            "=== Daftar Motor di Parkiran ===\n",
            "1. Plat Nomor: G 1765 KAD, Pemilik: Indra Wijaya\n",
            "\n",
            "=== Sistem Parkir Roda Dua ===\n",
            "1. Masukkan Motor\n",
            "2. Lihat Daftar Motor\n",
            "3. Keluarkan Motor\n",
            "4. Keluar\n",
            "Pilih menu (1/2/3/4): 3\n",
            "\n",
            "=== Daftar Motor di Parkiran ===\n",
            "1. Plat Nomor: G 1765 KAD, Pemilik: Indra Wijaya\n",
            "Pilih nomor motor yang akan dikeluarkan: 1\n",
            "Motor dengan plat nomor G 1765 KAD berhasil dikeluarkan.\n",
            "\n",
            "=== Sistem Parkir Roda Dua ===\n",
            "1. Masukkan Motor\n",
            "2. Lihat Daftar Motor\n",
            "3. Keluarkan Motor\n",
            "4. Keluar\n",
            "Pilih menu (1/2/3/4): 3\n",
            "\n",
            "=== Daftar Motor di Parkiran ===\n",
            "Parkiran kosong.\n",
            "Tidak ada motor di parkiran.\n",
            "\n",
            "=== Sistem Parkir Roda Dua ===\n",
            "1. Masukkan Motor\n",
            "2. Lihat Daftar Motor\n",
            "3. Keluarkan Motor\n",
            "4. Keluar\n",
            "Pilih menu (1/2/3/4): 4\n",
            "Terima kasih! Program selesai.\n"
          ]
        }
      ]
    },
    {
      "cell_type": "code",
      "source": [],
      "metadata": {
        "id": "hSntrkA0CdOk"
      },
      "execution_count": 6,
      "outputs": []
    }
  ]
}